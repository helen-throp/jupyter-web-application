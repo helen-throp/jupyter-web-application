{
 "cells": [
  {
   "cell_type": "code",
   "execution_count": 1,
   "id": "6a157a13",
   "metadata": {},
   "outputs": [],
   "source": [
    "import widgetsnbextension #makes widgets available\n",
    "import ipywidgets as widgets #lets you create interactive widgets\n",
    "import voila #for displaying things nicely on the web\n",
    "from IPython.display import display, clear_output #for the send button"
   ]
  },
  {
   "cell_type": "code",
   "execution_count": 2,
   "id": "6fe70134",
   "metadata": {
    "scrolled": true
   },
   "outputs": [
    {
     "data": {
      "application/vnd.jupyter.widget-view+json": {
       "model_id": "a46212f5ac3c47d98ed6d6c996aa0818",
       "version_major": 2,
       "version_minor": 0
      },
      "text/plain": [
       "Text(value='', placeholder='Your name here')"
      ]
     },
     "execution_count": 2,
     "metadata": {},
     "output_type": "execute_result"
    }
   ],
   "source": [
    "your_name=widgets.Text(placeholder='Your name here')\n",
    "your_name"
   ]
  },
  {
   "cell_type": "code",
   "execution_count": 3,
   "id": "a3a87c9e",
   "metadata": {},
   "outputs": [
    {
     "data": {
      "application/vnd.jupyter.widget-view+json": {
       "model_id": "b89e7d87b49348f59889582bb8c41b31",
       "version_major": 2,
       "version_minor": 0
      },
      "text/plain": [
       "Text(value='', placeholder='Name of the person the appointment is with')"
      ]
     },
     "execution_count": 3,
     "metadata": {},
     "output_type": "execute_result"
    }
   ],
   "source": [
    "their_name=widgets.Text(placeholder='Name of the person the appointment is with')\n",
    "their_name"
   ]
  },
  {
   "cell_type": "code",
   "execution_count": 4,
   "id": "7e576d25",
   "metadata": {},
   "outputs": [
    {
     "data": {
      "application/vnd.jupyter.widget-view+json": {
       "model_id": "54ad99961e494ed2b468ce3a803c2b9b",
       "version_major": 2,
       "version_minor": 0
      },
      "text/plain": [
       "Text(value='', placeholder='The nature of the appointment you want to cancel/delay')"
      ]
     },
     "execution_count": 4,
     "metadata": {},
     "output_type": "execute_result"
    }
   ],
   "source": [
    "appointment=widgets.Text(placeholder='The nature of the appointment you want to cancel/delay')\n",
    "appointment"
   ]
  },
  {
   "cell_type": "code",
   "execution_count": 5,
   "id": "273ab3c9",
   "metadata": {},
   "outputs": [
    {
     "data": {
      "application/vnd.jupyter.widget-view+json": {
       "model_id": "88be60d5ed9440f1be9876c7e2e10dc9",
       "version_major": 2,
       "version_minor": 0
      },
      "text/plain": [
       "DatetimePicker(value=None, description='When is this appointment?')"
      ]
     },
     "execution_count": 5,
     "metadata": {},
     "output_type": "execute_result"
    }
   ],
   "source": [
    "date=widgets.DatetimePicker(description='When is this appointment?')\n",
    "date"
   ]
  },
  {
   "cell_type": "code",
   "execution_count": 6,
   "id": "0d31a132",
   "metadata": {},
   "outputs": [
    {
     "data": {
      "application/vnd.jupyter.widget-view+json": {
       "model_id": "02937ad674084ab391f250df33b0fce0",
       "version_major": 2,
       "version_minor": 0
      },
      "text/plain": [
       "Dropdown(description='When do you want to reschedule?', options=('tomorrow', 'within the next week', 'within t…"
      ]
     },
     "execution_count": 6,
     "metadata": {},
     "output_type": "execute_result"
    }
   ],
   "source": [
    "reschedule=widgets.Dropdown(\n",
    "    options=['tomorrow','within the next week','within the next month','within the next year','next time we see each other','never'],\n",
    "    description='When do you want to reschedule?'\n",
    ")\n",
    "reschedule"
   ]
  },
  {
   "cell_type": "code",
   "execution_count": 7,
   "id": "8c9b804b",
   "metadata": {},
   "outputs": [
    {
     "data": {
      "application/vnd.jupyter.widget-view+json": {
       "model_id": "524a9a2dfc1d40fab333c70ed1859c6a",
       "version_major": 2,
       "version_minor": 0
      },
      "text/plain": [
       "Output()"
      ]
     },
     "execution_count": 7,
     "metadata": {},
     "output_type": "execute_result"
    }
   ],
   "source": [
    "output = widgets.Output()\n",
    "output"
   ]
  },
  {
   "cell_type": "code",
   "execution_count": 8,
   "id": "023bc826",
   "metadata": {},
   "outputs": [
    {
     "data": {
      "application/vnd.jupyter.widget-view+json": {
       "model_id": "690a4a76a62d4154b7ff6839867578da",
       "version_major": 2,
       "version_minor": 0
      },
      "text/plain": [
       "Button(description='Produce email', style=ButtonStyle(), tooltip='Produce email')"
      ]
     },
     "execution_count": 8,
     "metadata": {},
     "output_type": "execute_result"
    }
   ],
   "source": [
    "#send button\n",
    "button_produce = widgets.Button(\n",
    "                description='Produce email',\n",
    "                disabled=False,\n",
    "                tool_style='',\n",
    "                tooltip='Produce email',\n",
    "            )\n",
    "button_produce"
   ]
  },
  {
   "cell_type": "code",
   "execution_count": 11,
   "id": "6c9c0b2c",
   "metadata": {},
   "outputs": [],
   "source": [
    "def on_button_clicked(event): #says what to do when send button clicked\n",
    "    with output:\n",
    "        clear_output()\n",
    "        print(\"Here is your message: \")\n",
    "        print(f\"Dear {their_name.value},\")\n",
    "        print(f\"this is {your_name.value}.\")\n",
    "        print(f\"I am very sorry, but something has come up and as a result I am unable to {appointment.value} on {date.value}\")\n",
    "        print(f\"I would love to reschedule to {reschedule.value}, if that's okay for you!\")\n",
    "        print(\"I am very sorry to disappoint you.\")\n",
    "        print(f\"Best,{your_name.value}.\")\n",
    "\n",
    "button_produce.on_click(on_button_clicked)\n",
    "vbox_result = widgets.VBox([button_produce, output])"
   ]
  }
 ],
 "metadata": {
  "kernelspec": {
   "display_name": "Python 3 (ipykernel)",
   "language": "python",
   "name": "python3"
  },
  "language_info": {
   "codemirror_mode": {
    "name": "ipython",
    "version": 3
   },
   "file_extension": ".py",
   "mimetype": "text/x-python",
   "name": "python",
   "nbconvert_exporter": "python",
   "pygments_lexer": "ipython3",
   "version": "3.9.7"
  }
 },
 "nbformat": 4,
 "nbformat_minor": 5
}
